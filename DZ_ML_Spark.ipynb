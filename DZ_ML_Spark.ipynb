{
 "cells": [
  {
   "cell_type": "code",
   "execution_count": 110,
   "id": "d2b527a5",
   "metadata": {},
   "outputs": [],
   "source": [
    "from pyspark.sql import SparkSession\n",
    "import pandas as pd\n",
    "\n",
    "spark = SparkSession.builder\\\n",
    "        .master(\"local[*]\")\\\n",
    "        .appName('PySpark_Tutorial')\\\n",
    "        .getOrCreate()"
   ]
  },
  {
   "cell_type": "code",
   "execution_count": 111,
   "id": "a5ddd91e",
   "metadata": {},
   "outputs": [
    {
     "name": "stdout",
     "output_type": "stream",
     "text": [
      "root\n",
      " |-- sepal.length: string (nullable = true)\n",
      " |-- sepal.width: string (nullable = true)\n",
      " |-- petal.length: string (nullable = true)\n",
      " |-- petal.width: string (nullable = true)\n",
      " |-- variety: string (nullable = true)\n",
      "\n"
     ]
    }
   ],
   "source": [
    "df_iris = spark.read.csv(\n",
    "    'iris.csv',\n",
    "    sep=',',\n",
    "    header=True,\n",
    ")\n",
    "df_iris.printSchema()"
   ]
  },
  {
   "cell_type": "code",
   "execution_count": null,
   "id": "d5fdadef",
   "metadata": {},
   "outputs": [],
   "source": [
    "# при считывании данных функция spark.read.csv неверно определяет типы данных, поэтому\n",
    "# зададим явно структуру входных данных с помошью StructField() и StructType()"
   ]
  },
  {
   "cell_type": "code",
   "execution_count": 112,
   "id": "65d912b0",
   "metadata": {},
   "outputs": [
    {
     "name": "stdout",
     "output_type": "stream",
     "text": [
      "root\n",
      " |-- sepal.length: double (nullable = true)\n",
      " |-- sepal.width: double (nullable = true)\n",
      " |-- petal.length: double (nullable = true)\n",
      " |-- petal.width: double (nullable = true)\n",
      " |-- variety: string (nullable = true)\n",
      "\n"
     ]
    }
   ],
   "source": [
    "from pyspark.sql.types import *\n",
    "\n",
    "df_schema = [\n",
    "               StructField('sepal.length', DoubleType(), True),\n",
    "               StructField('sepal.width', DoubleType(), True),\n",
    "               StructField('petal.length',DoubleType(), True),\n",
    "               StructField('petal.width', DoubleType(), True),\n",
    "               StructField('variety', StringType(), True),\n",
    "            ]\n",
    "df_format = StructType(fields = df_schema)\n",
    "\n",
    "df_iris = spark.read.csv(\n",
    "    'iris.csv',\n",
    "    sep=',',\n",
    "    header=True,\n",
    "    schema = df_format\n",
    ")\n",
    "df_iris.printSchema()"
   ]
  },
  {
   "cell_type": "code",
   "execution_count": null,
   "id": "88a41d5b",
   "metadata": {},
   "outputs": [],
   "source": [
    "# выведем названия столбцов датасета"
   ]
  },
  {
   "cell_type": "code",
   "execution_count": 113,
   "id": "2a35a814",
   "metadata": {},
   "outputs": [
    {
     "data": {
      "text/plain": [
       "['sepal.length', 'sepal.width', 'petal.length', 'petal.width', 'variety']"
      ]
     },
     "execution_count": 113,
     "metadata": {},
     "output_type": "execute_result"
    }
   ],
   "source": [
    "df_iris.columns"
   ]
  },
  {
   "cell_type": "code",
   "execution_count": 116,
   "id": "ca97f687",
   "metadata": {},
   "outputs": [
    {
     "data": {
      "text/plain": [
       "[Row(sepal.length=5.1, sepal.width=3.5, petal.length=1.4, petal.width=0.2, variety='Setosa'),\n",
       " Row(sepal.length=4.9, sepal.width=3.0, petal.length=1.4, petal.width=0.2, variety='Setosa'),\n",
       " Row(sepal.length=4.7, sepal.width=3.2, petal.length=1.3, petal.width=0.2, variety='Setosa'),\n",
       " Row(sepal.length=4.6, sepal.width=3.1, petal.length=1.5, petal.width=0.2, variety='Setosa')]"
      ]
     },
     "execution_count": 116,
     "metadata": {},
     "output_type": "execute_result"
    }
   ],
   "source": [
    "# Проверим на соответствие созданого датасета ( типы данных) данным в исходном файле\n",
    "df_iris.head(4)"
   ]
  },
  {
   "cell_type": "code",
   "execution_count": null,
   "id": "6d193d9b",
   "metadata": {},
   "outputs": [],
   "source": [
    "#!!! Использование точки в названии аттрибута ( ex. sepal.length) приводит к ошибке, связанной  \n",
    "# с использованием в имени знака пунктуации \".\". Поэтому переименуем столбцы датасета"
   ]
  },
  {
   "cell_type": "code",
   "execution_count": 117,
   "id": "a2ed5868",
   "metadata": {},
   "outputs": [
    {
     "name": "stdout",
     "output_type": "stream",
     "text": [
      "root\n",
      " |-- sepallength: double (nullable = true)\n",
      " |-- sepalwidth: double (nullable = true)\n",
      " |-- petallength: double (nullable = true)\n",
      " |-- petalwidth: double (nullable = true)\n",
      " |-- variety: string (nullable = true)\n",
      "\n"
     ]
    }
   ],
   "source": [
    "df_iris = df_iris.withColumnRenamed(\"sepal.length\", \"sepallength\")\n",
    "df_iris = df_iris.withColumnRenamed(\"sepal.width\", \"sepalwidth\")\n",
    "df_iris = df_iris.withColumnRenamed(\"petal.length\", \"petallength\")\n",
    "df_iris = df_iris.withColumnRenamed(\"petal.width\", \"petalwidth\")\n",
    "df_iris.printSchema()"
   ]
  },
  {
   "cell_type": "code",
   "execution_count": 118,
   "id": "1494259a",
   "metadata": {},
   "outputs": [
    {
     "data": {
      "text/plain": [
       "['sepallength', 'sepalwidth', 'petallength', 'petalwidth', 'variety']"
      ]
     },
     "execution_count": 118,
     "metadata": {},
     "output_type": "execute_result"
    }
   ],
   "source": [
    "df_iris.columns # проверим названия столбцов"
   ]
  },
  {
   "cell_type": "code",
   "execution_count": null,
   "id": "2b0ea42f",
   "metadata": {},
   "outputs": [],
   "source": [
    "# С помощью команды groupBy() определим max, min, avg для аттрибутов\n",
    "# ('sepallength', 'sepalwidth', 'petallength', 'petalwidth') для каждого цветка"
   ]
  },
  {
   "cell_type": "code",
   "execution_count": 119,
   "id": "e42e165f",
   "metadata": {},
   "outputs": [
    {
     "name": "stdout",
     "output_type": "stream",
     "text": [
      "+----------+----------------+---------------+----------------+---------------+\n",
      "|   variety|max(sepallength)|max(sepalwidth)|max(petallength)|max(petalwidth)|\n",
      "+----------+----------------+---------------+----------------+---------------+\n",
      "| Virginica|             7.9|            3.8|             6.9|            2.5|\n",
      "|    Setosa|             5.8|            4.4|             1.9|            0.6|\n",
      "|Versicolor|             7.0|            3.4|             5.1|            1.8|\n",
      "+----------+----------------+---------------+----------------+---------------+\n",
      "\n"
     ]
    }
   ],
   "source": [
    "df_iris.select(['variety','sepallength','sepalwidth', 'petallength', 'petalwidth'])\\\n",
    "    .groupBy('variety')\\\n",
    "    .max()\\\n",
    "    .show()"
   ]
  },
  {
   "cell_type": "code",
   "execution_count": 120,
   "id": "f7f76a3c",
   "metadata": {},
   "outputs": [
    {
     "name": "stdout",
     "output_type": "stream",
     "text": [
      "+----------+----------------+---------------+----------------+---------------+\n",
      "|   variety|min(sepallength)|min(sepalwidth)|min(petallength)|min(petalwidth)|\n",
      "+----------+----------------+---------------+----------------+---------------+\n",
      "| Virginica|             4.9|            2.2|             4.5|            1.4|\n",
      "|    Setosa|             4.3|            2.3|             1.0|            0.1|\n",
      "|Versicolor|             4.9|            2.0|             3.0|            1.0|\n",
      "+----------+----------------+---------------+----------------+---------------+\n",
      "\n"
     ]
    }
   ],
   "source": [
    "df_iris.select(['variety','sepallength','sepalwidth', 'petallength', 'petalwidth'])\\\n",
    "    .groupBy('variety')\\\n",
    "    .min()\\\n",
    "    .show()"
   ]
  },
  {
   "cell_type": "code",
   "execution_count": 147,
   "id": "26d8903e",
   "metadata": {},
   "outputs": [
    {
     "name": "stdout",
     "output_type": "stream",
     "text": [
      "+----------+-----------------+------------------+------------------+------------------+\n",
      "|   variety| avg(sepallength)|   avg(sepalwidth)|  avg(petallength)|   avg(petalwidth)|\n",
      "+----------+-----------------+------------------+------------------+------------------+\n",
      "| Virginica|6.587999999999998|2.9739999999999998|             5.552|             2.026|\n",
      "|    Setosa|5.005999999999999| 3.428000000000001|1.4620000000000002|0.2459999999999999|\n",
      "|Versicolor|            5.936|2.7700000000000005|              4.26|1.3259999999999998|\n",
      "+----------+-----------------+------------------+------------------+------------------+\n",
      "\n"
     ]
    }
   ],
   "source": [
    "df_iris.select(['variety','sepallength','sepalwidth', 'petallength', 'petalwidth'])\\\n",
    "    .groupBy('variety')\\\n",
    "    .avg()\\\n",
    "    .show()"
   ]
  },
  {
   "cell_type": "code",
   "execution_count": 134,
   "id": "11ad0f77",
   "metadata": {},
   "outputs": [],
   "source": [
    "# строим точечную диаграмму для petal length и petal width\n",
    "from matplotlib import pyplot as plt\n",
    "import seaborn as sns"
   ]
  },
  {
   "cell_type": "code",
   "execution_count": 145,
   "id": "92b54e48",
   "metadata": {},
   "outputs": [
    {
     "data": {
      "text/html": [
       "<div>\n",
       "<style scoped>\n",
       "    .dataframe tbody tr th:only-of-type {\n",
       "        vertical-align: middle;\n",
       "    }\n",
       "\n",
       "    .dataframe tbody tr th {\n",
       "        vertical-align: top;\n",
       "    }\n",
       "\n",
       "    .dataframe thead th {\n",
       "        text-align: right;\n",
       "    }\n",
       "</style>\n",
       "<table border=\"1\" class=\"dataframe\">\n",
       "  <thead>\n",
       "    <tr style=\"text-align: right;\">\n",
       "      <th></th>\n",
       "      <th>petallength</th>\n",
       "      <th>petalwidth</th>\n",
       "      <th>variety</th>\n",
       "    </tr>\n",
       "  </thead>\n",
       "  <tbody>\n",
       "    <tr>\n",
       "      <th>0</th>\n",
       "      <td>1.4</td>\n",
       "      <td>0.2</td>\n",
       "      <td>Setosa</td>\n",
       "    </tr>\n",
       "    <tr>\n",
       "      <th>1</th>\n",
       "      <td>1.4</td>\n",
       "      <td>0.2</td>\n",
       "      <td>Setosa</td>\n",
       "    </tr>\n",
       "    <tr>\n",
       "      <th>2</th>\n",
       "      <td>1.3</td>\n",
       "      <td>0.2</td>\n",
       "      <td>Setosa</td>\n",
       "    </tr>\n",
       "    <tr>\n",
       "      <th>3</th>\n",
       "      <td>1.5</td>\n",
       "      <td>0.2</td>\n",
       "      <td>Setosa</td>\n",
       "    </tr>\n",
       "    <tr>\n",
       "      <th>4</th>\n",
       "      <td>1.4</td>\n",
       "      <td>0.2</td>\n",
       "      <td>Setosa</td>\n",
       "    </tr>\n",
       "  </tbody>\n",
       "</table>\n",
       "</div>"
      ],
      "text/plain": [
       "   petallength  petalwidth variety\n",
       "0          1.4         0.2  Setosa\n",
       "1          1.4         0.2  Setosa\n",
       "2          1.3         0.2  Setosa\n",
       "3          1.5         0.2  Setosa\n",
       "4          1.4         0.2  Setosa"
      ]
     },
     "execution_count": 145,
     "metadata": {},
     "output_type": "execute_result"
    }
   ],
   "source": [
    "# Для работы с seaborn и matplotlib создадим датафрейм в pandas\n",
    "flower = df_iris.select(['petallength', 'petalwidth','variety']).toPandas()\n",
    "flower.head()"
   ]
  },
  {
   "cell_type": "code",
   "execution_count": 144,
   "id": "9eaf16d4",
   "metadata": {},
   "outputs": [
    {
     "data": {
      "image/png": "[encoded data removed]",
      "text/plain": [
       "<Figure size 360x360 with 1 Axes>"
      ]
     },
     "metadata": {
      "needs_background": "light"
     },
     "output_type": "display_data"
    }
   ],
   "source": [
    "# Точечная диаграмма\n",
    "sns.lmplot( x=\"petallength\", y=\"petalwidth\", data=flower, fit_reg=False, hue='variety', legend=False)\n",
    "plt.legend(loc='upper left')\n",
    "plt.show()\n"
   ]
  },
  {
   "cell_type": "code",
   "execution_count": null,
   "id": "69c4daab",
   "metadata": {},
   "outputs": [],
   "source": [
    "# Из диаграммы можно сформулировать правило: если значение petallength < 2.5 or petalwidth < 0,65,\n",
    "# то это цветок Setosa, если 0.7 < petalwidth < 1,6 and 3 < petallength < 5 то это цветок Versicolor\n",
    "# если petalwidth > 1,65 or petallength > 5,5, то это цветок Virginica\n",
    "# На диаграмме заметно наличие области пересечения значений параметров для Virginica и Versicolor,\n",
    "# что будет влиять на точность модели прогноза."
   ]
  },
  {
   "cell_type": "code",
   "execution_count": 197,
   "id": "98824068",
   "metadata": {},
   "outputs": [
    {
     "name": "stdout",
     "output_type": "stream",
     "text": [
      "+-----------+----------+-----------+----------+-------+--------+\n",
      "|sepallength|sepalwidth|petallength|petalwidth|variety|forecast|\n",
      "+-----------+----------+-----------+----------+-------+--------+\n",
      "|        5.1|       3.5|        1.4|       0.2| Setosa|  Setosa|\n",
      "|        4.9|       3.0|        1.4|       0.2| Setosa|  Setosa|\n",
      "|        4.7|       3.2|        1.3|       0.2| Setosa|  Setosa|\n",
      "|        4.6|       3.1|        1.5|       0.2| Setosa|  Setosa|\n",
      "|        5.0|       3.6|        1.4|       0.2| Setosa|  Setosa|\n",
      "+-----------+----------+-----------+----------+-------+--------+\n",
      "only showing top 5 rows\n",
      "\n",
      "% правильных предсказаний ( параметр petalwidth):- 0.96\n"
     ]
    }
   ],
   "source": [
    "# Создаем дополнительный столбец ( forecast ) для внесения в него типов цветков в соответствии\n",
    "# с моделью предсказаний на основании точечной диаграммы по параметру petalwidth\n",
    "\n",
    "from pyspark.sql.functions import when\n",
    "\n",
    "df_iris = df_iris.withColumn('forecast', when(df_iris['petalwidth'] <= 0.65,'Setosa')\n",
    "                                         .when(df_iris['petalwidth']>= 1.65,'Virginica')\n",
    "                                         .otherwise('Versicolor'))\n",
    "df_iris.show(5)\n",
    "# посчитаем количество строк, где по значениям признаков было точно предсказан вариант цветка\n",
    "df_w = df_iris.filter(df_iris['variety'] == df_iris['forecast'])\n",
    "print(f\"% правильных предсказаний ( параметр petalwidth):- {df_w.count()/df_iris.count()}\")                                       "
   ]
  },
  {
   "cell_type": "code",
   "execution_count": null,
   "id": "a634765c",
   "metadata": {},
   "outputs": [],
   "source": []
  },
  {
   "cell_type": "code",
   "execution_count": 198,
   "id": "a30e5bc5",
   "metadata": {},
   "outputs": [
    {
     "name": "stdout",
     "output_type": "stream",
     "text": [
      "+-----------+----------+-----------+----------+-------+--------+\n",
      "|sepallength|sepalwidth|petallength|petalwidth|variety|forecast|\n",
      "+-----------+----------+-----------+----------+-------+--------+\n",
      "|        5.1|       3.5|        1.4|       0.2| Setosa|  Setosa|\n",
      "|        4.9|       3.0|        1.4|       0.2| Setosa|  Setosa|\n",
      "|        4.7|       3.2|        1.3|       0.2| Setosa|  Setosa|\n",
      "|        4.6|       3.1|        1.5|       0.2| Setosa|  Setosa|\n",
      "|        5.0|       3.6|        1.4|       0.2| Setosa|  Setosa|\n",
      "+-----------+----------+-----------+----------+-------+--------+\n",
      "only showing top 5 rows\n",
      "\n",
      "% правильных предсказаний ( параметр petallength):- 0.96\n"
     ]
    }
   ],
   "source": [
    "# Создаем дополнительный столбец ( forecast ) для внесения в него типов цветков в соответствии\n",
    "# с моделью предсказаний на основании точечной диаграммы по параметру petallength\n",
    "\n",
    "df_iris = df_iris.withColumn('forecast', when(df_iris['petallength'] <= 2.5,'Setosa')\n",
    "                                         .when(df_iris['petallength']>= 5.0,'Virginica')\n",
    "                                         .otherwise('Versicolor'))\n",
    "df_iris.show(5)\n",
    "df_l = df_iris.filter(df_iris['variety'] == df_iris['forecast'])\n",
    "print(f\"% правильных предсказаний ( параметр petallength):- {df_w.count()/df_iris.count()}\")"
   ]
  },
  {
   "cell_type": "code",
   "execution_count": null,
   "id": "de687bc5",
   "metadata": {},
   "outputs": [],
   "source": [
    "# Заключение: Созданная на основании точечной диаграммы модель предсказаний обладает точностью 96%\n",
    "# Такая точнось прогноза является следствием того что у цветов Virginica и Versicolor имеется\n",
    "# область \"пересечения\" значений параметров"
   ]
  }
 ],
 "metadata": {
  "kernelspec": {
   "display_name": "Python 3 (ipykernel)",
   "language": "python",
   "name": "python3"
  },
  "language_info": {
   "codemirror_mode": {
    "name": "ipython",
    "version": 3
   },
   "file_extension": ".py",
   "mimetype": "text/x-python",
   "name": "python",
   "nbconvert_exporter": "python",
   "pygments_lexer": "ipython3",
   "version": "3.9.7"
  }
 },
 "nbformat": 4,
 "nbformat_minor": 5
}
