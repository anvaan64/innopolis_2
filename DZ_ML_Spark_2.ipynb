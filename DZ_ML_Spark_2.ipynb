{
 "cells": [
  {
   "cell_type": "code",
   "execution_count": 246,
   "id": "d2b527a5",
   "metadata": {},
   "outputs": [],
   "source": [
    "from pyspark.sql import SparkSession\n",
    "import pandas as pd\n",
    "\n",
    "spark = SparkSession.builder\\\n",
    "        .master(\"local[*]\")\\\n",
    "        .appName('PySpark_Tutorial')\\\n",
    "        .getOrCreate()"
   ]
  },
  {
   "cell_type": "code",
   "execution_count": 247,
   "id": "1ce3eda0",
   "metadata": {},
   "outputs": [
    {
     "name": "stdout",
     "output_type": "stream",
     "text": [
      "root\n",
      " |-- sepal.length: string (nullable = true)\n",
      " |-- sepal.width: string (nullable = true)\n",
      " |-- petal.length: string (nullable = true)\n",
      " |-- petal.width: string (nullable = true)\n",
      " |-- variety: string (nullable = true)\n",
      "\n"
     ]
    }
   ],
   "source": [
    "df_iris = spark.read.csv(\n",
    "    'iris.csv',\n",
    "    sep=',',\n",
    "    header=True,\n",
    ")\n",
    "df_iris.printSchema()"
   ]
  },
  {
   "cell_type": "code",
   "execution_count": null,
   "id": "40365926",
   "metadata": {},
   "outputs": [],
   "source": [
    "# при считывании данных функция spark.read.csv неверно определяет типы данных, поэтому\n",
    "# зададим явно структуру входных данных с помошью StructField() и StructType()"
   ]
  },
  {
   "cell_type": "code",
   "execution_count": 248,
   "id": "65d912b0",
   "metadata": {},
   "outputs": [
    {
     "name": "stdout",
     "output_type": "stream",
     "text": [
      "root\n",
      " |-- sepal.length: double (nullable = true)\n",
      " |-- sepal.width: double (nullable = true)\n",
      " |-- petal.length: double (nullable = true)\n",
      " |-- petal.width: double (nullable = true)\n",
      " |-- variety: string (nullable = true)\n",
      "\n"
     ]
    }
   ],
   "source": [
    "from pyspark.sql.types import *\n",
    "\n",
    "df_schema = [\n",
    "               StructField('sepal.length', DoubleType(), True),\n",
    "               StructField('sepal.width', DoubleType(), True),\n",
    "               StructField('petal.length',DoubleType(), True),\n",
    "               StructField('petal.width', DoubleType(), True),\n",
    "               StructField('variety', StringType(), True),\n",
    "            ]\n",
    "df_format = StructType(fields = df_schema)\n",
    "\n",
    "df_iris = spark.read.csv(\n",
    "    'iris.csv',\n",
    "    sep=',',\n",
    "    header=True,\n",
    "    schema = df_format\n",
    ")\n",
    "df_iris.printSchema()"
   ]
  },
  {
   "cell_type": "code",
   "execution_count": 62,
   "id": "88a41d5b",
   "metadata": {},
   "outputs": [],
   "source": [
    "# выведем названия столбцов датасета"
   ]
  },
  {
   "cell_type": "code",
   "execution_count": 249,
   "id": "2a35a814",
   "metadata": {},
   "outputs": [
    {
     "data": {
      "text/plain": [
       "['sepal.length', 'sepal.width', 'petal.length', 'petal.width', 'variety']"
      ]
     },
     "execution_count": 249,
     "metadata": {},
     "output_type": "execute_result"
    }
   ],
   "source": [
    "df_iris.columns"
   ]
  },
  {
   "cell_type": "code",
   "execution_count": 250,
   "id": "ca97f687",
   "metadata": {},
   "outputs": [
    {
     "data": {
      "text/plain": [
       "[Row(sepal.length=5.1, sepal.width=3.5, petal.length=1.4, petal.width=0.2, variety='Setosa'),\n",
       " Row(sepal.length=4.9, sepal.width=3.0, petal.length=1.4, petal.width=0.2, variety='Setosa'),\n",
       " Row(sepal.length=4.7, sepal.width=3.2, petal.length=1.3, petal.width=0.2, variety='Setosa'),\n",
       " Row(sepal.length=4.6, sepal.width=3.1, petal.length=1.5, petal.width=0.2, variety='Setosa')]"
      ]
     },
     "execution_count": 250,
     "metadata": {},
     "output_type": "execute_result"
    }
   ],
   "source": [
    "# Проверим на соответствие созданого датасета ( типы данных) данным в исходном файле\n",
    "df_iris.head(4)"
   ]
  },
  {
   "cell_type": "code",
   "execution_count": null,
   "id": "5a85dbc5",
   "metadata": {},
   "outputs": [],
   "source": [
    "#!!! Использование точки в названии аттрибута ( ex. sepal.length) приводит к ошибке, связанной  \n",
    "# с использованием в имени знака пунктуации \".\". Поэтому переименуем столбцы датасета"
   ]
  },
  {
   "cell_type": "code",
   "execution_count": 251,
   "id": "a2ed5868",
   "metadata": {},
   "outputs": [
    {
     "name": "stdout",
     "output_type": "stream",
     "text": [
      "root\n",
      " |-- sepallength: double (nullable = true)\n",
      " |-- sepalwidth: double (nullable = true)\n",
      " |-- petallength: double (nullable = true)\n",
      " |-- petalwidth: double (nullable = true)\n",
      " |-- variety: string (nullable = true)\n",
      "\n"
     ]
    }
   ],
   "source": [
    "df_iris = df_iris.withColumnRenamed(\"sepal.length\", \"sepallength\")\n",
    "df_iris = df_iris.withColumnRenamed(\"sepal.width\", \"sepalwidth\")\n",
    "df_iris = df_iris.withColumnRenamed(\"petal.length\", \"petallength\")\n",
    "df_iris = df_iris.withColumnRenamed(\"petal.width\", \"petalwidth\")\n",
    "df_iris.printSchema()"
   ]
  },
  {
   "cell_type": "code",
   "execution_count": 252,
   "id": "60d88afc",
   "metadata": {},
   "outputs": [
    {
     "data": {
      "text/plain": [
       "['sepallength', 'sepalwidth', 'petallength', 'petalwidth', 'variety']"
      ]
     },
     "execution_count": 252,
     "metadata": {},
     "output_type": "execute_result"
    }
   ],
   "source": [
    "df_iris.columns # проверим названия столбцов"
   ]
  },
  {
   "cell_type": "code",
   "execution_count": null,
   "id": "fdd9d1c3",
   "metadata": {},
   "outputs": [],
   "source": [
    "# Для формулирования гипотезы о зависимости качества прогнозирования модели от параметров\n",
    "# исходных данных просмотрим на точность прогнозирования при различных вариантах разбиения \n",
    "# исходной выборки на train и test\n",
    "# Если посмотреть на вариант точечной диаграммы распределения параметров (petallength, petalwidth)\n",
    "# и (sepallength, sepalwidth),\n",
    "# то видно что имеется область пересечения для цветков versicolor и virginica.\n",
    "# следовательно на точность модели будет влиять то как будут распределяться наборы параметров из\n",
    "# области пересечения. Т.е. ошибки модели ожидаются в точности определения цветков\n",
    "# versicolor и virginica ( их количество с исходных данных и прогнозных могут отличаться)"
   ]
  },
  {
   "cell_type": "code",
   "execution_count": 253,
   "id": "9596359e",
   "metadata": {
    "scrolled": true
   },
   "outputs": [
    {
     "data": {
      "text/plain": [
       "<matplotlib.legend.Legend at 0x25844ed32b0>"
      ]
     },
     "execution_count": 253,
     "metadata": {},
     "output_type": "execute_result"
    },
    {
     "data": {
      "image/png": "[encoded data removed]",
      "text/plain": [
       "<Figure size 360x360 with 1 Axes>"
      ]
     },
     "metadata": {
      "needs_background": "light"
     },
     "output_type": "display_data"
    },
    {
     "data": {
      "image/png": "[encoded data removed]",
      "text/plain": [
       "<Figure size 360x360 with 1 Axes>"
      ]
     },
     "metadata": {
      "needs_background": "light"
     },
     "output_type": "display_data"
    }
   ],
   "source": [
    "\n",
    "from matplotlib import pyplot as plt\n",
    "import seaborn as sns\n",
    "\n",
    "flower = df_iris.select(['petallength', 'petalwidth','variety']).toPandas()\n",
    "flower2 = df_iris.select(['sepallength', 'sepalwidth','variety']).toPandas()\n",
    "\n",
    "sns.lmplot( x=\"petallength\", y=\"petalwidth\", data=flower, fit_reg=False, hue='variety', legend=False)\n",
    "plt.legend(loc='upper left')\n",
    "\n",
    "sns.lmplot( x=\"sepallength\", y=\"sepalwidth\", data=flower2, fit_reg=False, hue='variety', legend=False)\n",
    "plt.legend(loc='upper left')"
   ]
  },
  {
   "cell_type": "code",
   "execution_count": 342,
   "id": "3a4c2042",
   "metadata": {},
   "outputs": [
    {
     "data": {
      "text/html": [
       "<div>\n",
       "<style scoped>\n",
       "    .dataframe tbody tr th:only-of-type {\n",
       "        vertical-align: middle;\n",
       "    }\n",
       "\n",
       "    .dataframe tbody tr th {\n",
       "        vertical-align: top;\n",
       "    }\n",
       "\n",
       "    .dataframe thead th {\n",
       "        text-align: right;\n",
       "    }\n",
       "</style>\n",
       "<table border=\"1\" class=\"dataframe\">\n",
       "  <thead>\n",
       "    <tr style=\"text-align: right;\">\n",
       "      <th></th>\n",
       "    </tr>\n",
       "  </thead>\n",
       "  <tbody>\n",
       "  </tbody>\n",
       "</table>\n",
       "</div>"
      ],
      "text/plain": [
       "Empty DataFrame\n",
       "Columns: []\n",
       "Index: []"
      ]
     },
     "execution_count": 342,
     "metadata": {},
     "output_type": "execute_result"
    }
   ],
   "source": [
    "# Для оценки вышеприведенной гипотезы о возможных причинах неточности модели создадим словарь\n",
    "# result_dict, в который будем заносить результаты работы модели при очередном сгенерированном\n",
    "# наборе train, test( значения ключей: train - размер выборки train, test - размер выбрки test,\n",
    "# acc_train - точность модели на наборе train, acc_test - точность модели на наборе test,\n",
    "# s_test - количество ошибок предсказнаний типа Setosa в наборе test, s_train - \n",
    "#  количество ошибок предсказнаний типа Setosa в наборе train, vir_test -  количество ошибок\n",
    "# предсказнаний типа Virginica в наборе test, vir_train -  количество ошибок предсказнаний типа \n",
    "# Virginica в наборе train, ver_test -  количество ошибок предсказнаний типа Versicolor в наборе\n",
    "# test, ver_train - количество ошибок предсказнаний типа Versicolor в наборе train )\n",
    "# DataFrame result для сбора данных по всем разбиени на train и test наборы.\n",
    "# заполняться DataFrame result будет после каждого расчета модели при смене разбиения исх. набора\n",
    "\n",
    "lst = ['train','test', 'acc_train', 'acc_test', 's_test','s_train', 'vir_test','vir_train', 'ver_test', 'ver_train']\n",
    "result_dict = dict.fromkeys(lst,0)\n",
    "result = pd.DataFrame()\n",
    "result\n"
   ]
  },
  {
   "cell_type": "code",
   "execution_count": null,
   "id": "bcc2d9a7",
   "metadata": {},
   "outputs": [],
   "source": [
    "# Для дальнейщего построения модели с помощью библиотеки Spark, загрузим необходимые методы"
   ]
  },
  {
   "cell_type": "code",
   "execution_count": 343,
   "id": "3345f2f4",
   "metadata": {},
   "outputs": [],
   "source": [
    "from pyspark.ml.linalg import Vectors\n",
    "from pyspark.ml.feature import VectorAssembler\n",
    "from pyspark.ml import Pipeline\n",
    "from pyspark.ml.classification import LogisticRegression\n",
    "from pyspark.ml.feature import StringIndexer \n",
    "\n"
   ]
  },
  {
   "cell_type": "code",
   "execution_count": 344,
   "id": "e47937aa",
   "metadata": {},
   "outputs": [
    {
     "name": "stdout",
     "output_type": "stream",
     "text": [
      "Измененный датасет:\n",
      "+-----------+----------+-----------+----------+-------+---------+\n",
      "|sepallength|sepalwidth|petallength|petalwidth|variety|variety_1|\n",
      "+-----------+----------+-----------+----------+-------+---------+\n",
      "|        5.1|       3.5|        1.4|       0.2| Setosa|      1.0|\n",
      "|        4.9|       3.0|        1.4|       0.2| Setosa|      1.0|\n",
      "|        4.7|       3.2|        1.3|       0.2| Setosa|      1.0|\n",
      "|        4.6|       3.1|        1.5|       0.2| Setosa|      1.0|\n",
      "|        5.0|       3.6|        1.4|       0.2| Setosa|      1.0|\n",
      "+-----------+----------+-----------+----------+-------+---------+\n",
      "only showing top 5 rows\n",
      "\n"
     ]
    }
   ],
   "source": [
    "# Т.к. для построения модели необходимо перевести все данные в числовое представление, то заменим\n",
    "# строковые значений колонки variety ( это значение и будет предсказываться в построенной модели )\n",
    "# на числовые.\n",
    "# Добавлена колонка variety_1 с числовыми значениями для имен Setosa, Versicolor, Virginica\n",
    "\n",
    "from pyspark.sql.functions import when\n",
    "df_iris = df_iris.withColumn('variety_1',\n",
    "            when(df_iris['variety'] == 'Setosa', 1.0).\n",
    "            when(df_iris['variety'] == 'Virginica', 2.0).\n",
    "            otherwise(3.0))\n",
    "print('Измененный датасет:')\n",
    "df_iris.show(5) "
   ]
  },
  {
   "cell_type": "code",
   "execution_count": 259,
   "id": "9920b943",
   "metadata": {},
   "outputs": [
    {
     "name": "stdout",
     "output_type": "stream",
     "text": [
      "+-----------+----------+-----------+----------+---------+\n",
      "|sepallength|sepalwidth|petallength|petalwidth|variety_1|\n",
      "+-----------+----------+-----------+----------+---------+\n",
      "|        5.1|       3.5|        1.4|       0.2|      1.0|\n",
      "|        4.9|       3.0|        1.4|       0.2|      1.0|\n",
      "|        4.7|       3.2|        1.3|       0.2|      1.0|\n",
      "|        4.6|       3.1|        1.5|       0.2|      1.0|\n",
      "|        5.0|       3.6|        1.4|       0.2|      1.0|\n",
      "|        5.4|       3.9|        1.7|       0.4|      1.0|\n",
      "|        4.6|       3.4|        1.4|       0.3|      1.0|\n",
      "|        5.0|       3.4|        1.5|       0.2|      1.0|\n",
      "|        4.4|       2.9|        1.4|       0.2|      1.0|\n",
      "|        4.9|       3.1|        1.5|       0.1|      1.0|\n",
      "|        5.4|       3.7|        1.5|       0.2|      1.0|\n",
      "|        4.8|       3.4|        1.6|       0.2|      1.0|\n",
      "|        4.8|       3.0|        1.4|       0.1|      1.0|\n",
      "|        4.3|       3.0|        1.1|       0.1|      1.0|\n",
      "|        5.8|       4.0|        1.2|       0.2|      1.0|\n",
      "|        5.7|       4.4|        1.5|       0.4|      1.0|\n",
      "|        5.4|       3.9|        1.3|       0.4|      1.0|\n",
      "|        5.1|       3.5|        1.4|       0.3|      1.0|\n",
      "|        5.7|       3.8|        1.7|       0.3|      1.0|\n",
      "|        5.1|       3.8|        1.5|       0.3|      1.0|\n",
      "+-----------+----------+-----------+----------+---------+\n",
      "only showing top 20 rows\n",
      "\n"
     ]
    }
   ],
   "source": [
    "# отберем необходимые колонки для дальнейшей обработки датасета\n",
    "df = df_iris.select(['sepallength', 'sepalwidth', 'petallength', 'petalwidth', 'variety_1'])\n",
    "df.show()"
   ]
  },
  {
   "cell_type": "code",
   "execution_count": 447,
   "id": "c1aa5686",
   "metadata": {},
   "outputs": [
    {
     "name": "stdout",
     "output_type": "stream",
     "text": [
      "Размер набора train - 128, размер набора test - 22\n"
     ]
    }
   ],
   "source": [
    "# Разбиваем исходный датасет на тренировочный т тестовый: train и test (70/30, 80/20, 90/10)\n",
    "(train_df, test_df) = df.randomSplit([0.9, 0.1])\n",
    "print(f\"Размер набора train - {train_df.count()}, размер набора test - {test_df.count()}\")\n",
    "result_dict['test'] = test_df.count()\n",
    "result_dict['train'] = train_df.count()"
   ]
  },
  {
   "cell_type": "code",
   "execution_count": 448,
   "id": "c70a3e05",
   "metadata": {},
   "outputs": [
    {
     "name": "stdout",
     "output_type": "stream",
     "text": [
      "+-----------------+---------+--------------------+-----------------+----------+\n",
      "|         features|variety_1|       rawPrediction|      probability|prediction|\n",
      "+-----------------+---------+--------------------+-----------------+----------+\n",
      "|[4.3,3.0,1.1,0.1]|      1.0|[-2001.0212502150...|[0.0,1.0,0.0,0.0]|       1.0|\n",
      "|[4.4,2.9,1.4,0.2]|      1.0|[-1992.7990941015...|[0.0,1.0,0.0,0.0]|       1.0|\n",
      "|[4.4,3.0,1.3,0.2]|      1.0|[-2028.7859594843...|[0.0,1.0,0.0,0.0]|       1.0|\n",
      "|[4.4,3.2,1.3,0.2]|      1.0|[-2105.8215799455...|[0.0,1.0,0.0,0.0]|       1.0|\n",
      "|[4.5,2.3,1.3,0.3]|      1.0|[-1781.8641074437...|[0.0,1.0,0.0,0.0]|       1.0|\n",
      "|[4.6,3.1,1.5,0.2]|      1.0|[-2109.0590772433...|[0.0,1.0,0.0,0.0]|       1.0|\n",
      "|[4.6,3.2,1.4,0.2]|      1.0|[-2145.0459426261...|[0.0,1.0,0.0,0.0]|       1.0|\n",
      "|[4.6,3.4,1.4,0.3]|      1.0|[-2226.4376737446...|[0.0,1.0,0.0,0.0]|       1.0|\n",
      "|[4.6,3.6,1.0,0.2]|      1.0|[-2288.9934041572...|[0.0,1.0,0.0,0.0]|       1.0|\n",
      "|[4.7,3.2,1.3,0.2]|      1.0|[-2160.8617066946...|[0.0,1.0,0.0,0.0]|       1.0|\n",
      "|[4.7,3.2,1.6,0.2]|      1.0|[-2168.4545412381...|[0.0,1.0,0.0,0.0]|       1.0|\n",
      "|[4.8,3.0,1.4,0.3]|      1.0|[-2109.0598506549...|[0.0,1.0,0.0,0.0]|       1.0|\n",
      "|[4.8,3.4,1.6,0.2]|      1.0|[-2263.8368706157...|[0.0,1.0,0.0,0.0]|       1.0|\n",
      "|[4.8,3.4,1.9,0.2]|      1.0|[-2271.4297051592...|[0.0,1.0,0.0,0.0]|       1.0|\n",
      "|[4.9,3.0,1.4,0.2]|      1.0|[-2123.0504489140...|[0.0,1.0,0.0,0.0]|       1.0|\n",
      "|[4.9,3.1,1.5,0.1]|      1.0|[-2159.7430933352...|[0.0,1.0,0.0,0.0]|       1.0|\n",
      "|[4.9,3.1,1.5,0.2]|      1.0|[-2164.0992039924...|[0.0,1.0,0.0,0.0]|       1.0|\n",
      "|[4.9,3.6,1.4,0.1]|      1.0|[-2349.8011996404...|[0.0,1.0,0.0,0.0]|       1.0|\n",
      "|[5.0,2.3,3.3,1.0]|      3.0|[-1954.7093235829...|[0.0,0.0,0.0,1.0]|       3.0|\n",
      "|[5.0,3.0,1.6,0.2]|      1.0|[-2146.4590475260...|[0.0,1.0,0.0,0.0]|       1.0|\n",
      "+-----------------+---------+--------------------+-----------------+----------+\n",
      "only showing top 20 rows\n",
      "\n"
     ]
    }
   ],
   "source": [
    "# Построим модель логистической регрессии и обучим ее\n",
    "# Этап преобразования исходных параметров в векторное представление\n",
    "stage_1 = VectorAssembler(inputCols=['sepallength', 'sepalwidth', 'petallength', 'petalwidth'],\n",
    "                          outputCol='features')\n",
    "# Построение логистической регрессии (исходный вестор данных , результируюший параметр)\n",
    "stage_2 = LogisticRegression(featuresCol='features',labelCol='variety_1')\n",
    "\n",
    "# Построение потока вычислений\n",
    "regression_pipeline = Pipeline(stages = [stage_1, stage_2])\n",
    "# поcтроение модели на тренировочном наборе данных train\n",
    "model = regression_pipeline.fit(train_df)\n",
    "# вычисление модели для набора train\n",
    "train_df = model.transform(train_df)\n",
    "\n",
    "# Выбор некоторых данных полученной модели ( variety_1 фактическое значение,\n",
    "# prediction _ вычисленное значение параметра с помощью построенной модели )\n",
    "train_df.select('features', 'variety_1', 'rawPrediction', 'probability', 'prediction').show()"
   ]
  },
  {
   "cell_type": "code",
   "execution_count": 449,
   "id": "9f70abcf",
   "metadata": {},
   "outputs": [
    {
     "name": "stdout",
     "output_type": "stream",
     "text": [
      "количество: 128\n",
      "точность предсказания модели на наборе train в %: 100.0\n"
     ]
    }
   ],
   "source": [
    "# оценим точность модели \"ручным способом\"\n",
    "df_w = train_df.filter(train_df['variety_1'] == train_df['prediction'])\n",
    "print(f\"количество: {df_w.count()}\")\n",
    "print(f\"точность предсказания модели на наборе train в %: {df_w.count()/train_df.count()*100}\")"
   ]
  },
  {
   "cell_type": "code",
   "execution_count": 450,
   "id": "c034ccd3",
   "metadata": {},
   "outputs": [
    {
     "name": "stdout",
     "output_type": "stream",
     "text": [
      "количество: 0\n",
      "+---------+----------+\n",
      "|variety_1|prediction|\n",
      "+---------+----------+\n",
      "+---------+----------+\n",
      "\n"
     ]
    }
   ],
   "source": [
    "# выведим записи с несоответствием исходного значения и предсказанного на наборе train\n",
    "df_w_no = train_df.filter(train_df['variety_1'] != train_df['prediction'])\n",
    "print(f\"количество: {df_w_no.count()}\")\n",
    "df_w_no.select(['variety_1','prediction']).show()"
   ]
  },
  {
   "cell_type": "code",
   "execution_count": 451,
   "id": "d5fb965e",
   "metadata": {},
   "outputs": [
    {
     "name": "stdout",
     "output_type": "stream",
     "text": [
      "+-----------------+---------+--------------------+--------------------+----------+\n",
      "|         features|variety_1|       rawPrediction|         probability|prediction|\n",
      "+-----------------+---------+--------------------+--------------------+----------+\n",
      "|[4.8,3.0,1.4,0.1]|      1.0|[-2100.3476293403...|   [0.0,1.0,0.0,0.0]|       1.0|\n",
      "|[4.8,3.1,1.6,0.2]|      1.0|[-2148.2834399239...|   [0.0,1.0,0.0,0.0]|       1.0|\n",
      "|[4.9,2.4,3.3,1.0]|      3.0|[-1974.8804248972...|   [0.0,0.0,0.0,1.0]|       3.0|\n",
      "|[4.9,2.5,4.5,1.7]|      2.0|[-2074.2623479026...|[0.0,0.0,1.0,4.14...|       2.0|\n",
      "|[5.0,2.0,3.5,1.0]|      3.0|[-1844.2177825868...|[0.0,0.0,1.856034...|       3.0|\n",
      "|[5.0,3.5,1.3,0.3]|      1.0|[-2335.8113747929...|   [0.0,1.0,0.0,0.0]|       1.0|\n",
      "|[5.4,3.7,1.5,0.2]|      1.0|[-2486.9396099580...|   [0.0,1.0,0.0,0.0]|       1.0|\n",
      "|[5.6,2.7,4.2,1.3]|      3.0|[-2254.7076536059...|[0.0,0.0,3.543888...|       3.0|\n",
      "|[5.6,2.8,4.9,2.0]|      2.0|[-2341.4348523721...|[0.0,0.0,1.0,4.29...|       2.0|\n",
      "|[5.7,2.8,4.5,1.3]|      3.0|[-2319.1650072963...|[0.0,0.0,1.463238...|       3.0|\n",
      "|[5.7,4.4,1.5,0.4]|      1.0|[-2820.3166296359...|   [0.0,1.0,0.0,0.0]|       1.0|\n",
      "|[5.9,3.0,5.1,1.8]|      2.0|[-2469.8602679636...|[0.0,0.0,1.0,5.65...|       2.0|\n",
      "|[6.0,2.2,4.0,1.0]|      3.0|[-2117.3752164509...|   [0.0,0.0,0.0,1.0]|       3.0|\n",
      "|[6.0,2.7,5.1,1.6]|      3.0|[-2363.9413248736...|[0.0,0.0,1.0,3.55...|       2.0|\n",
      "|[6.1,3.0,4.6,1.4]|      3.0|[-2476.4745189282...|[0.0,0.0,4.338877...|       3.0|\n",
      "|[6.2,2.9,4.3,1.3]|      3.0|[-2444.3544724132...|[0.0,0.0,2.57E-32...|       3.0|\n",
      "|[6.3,3.4,5.6,2.4]|      2.0|[-2736.1097327343...|[0.0,0.0,1.0,1.41...|       2.0|\n",
      "|[6.4,2.7,5.3,1.9]|      2.0|[-2455.4583822066...|[0.0,0.0,1.0,3.41...|       2.0|\n",
      "|[6.7,3.3,5.7,2.5]|      2.0|[-2777.8658136743...|[0.0,0.0,1.0,8.20...|       2.0|\n",
      "|[6.9,3.2,5.7,2.3]|      2.0|[-2767.3291999619...|[0.0,0.0,1.0,2.77...|       2.0|\n",
      "+-----------------+---------+--------------------+--------------------+----------+\n",
      "only showing top 20 rows\n",
      "\n"
     ]
    }
   ],
   "source": [
    "\n",
    "# применим полученную модель для набора test\n",
    "test_df = model.transform(test_df)\n",
    "# Выбор некоторых данных полученной модели ( variety_1 фактическое значение,\n",
    "# prediction _ вычисленное значение параметра с помощью построенной модели )\n",
    "test_df.select('features','variety_1', 'rawPrediction', 'probability', 'prediction').show()"
   ]
  },
  {
   "cell_type": "code",
   "execution_count": 452,
   "id": "9684336c",
   "metadata": {},
   "outputs": [
    {
     "name": "stdout",
     "output_type": "stream",
     "text": [
      "точность предсказания модели на наборе test в %: 95.45454545454545\n"
     ]
    }
   ],
   "source": [
    "# оценим точность модели на наборе test\n",
    "df_t = test_df.filter(test_df['variety_1'] == test_df['prediction'])\n",
    "print(f\"точность предсказания модели на наборе test в %: {df_t.count()/test_df.count()*100}\")\n"
   ]
  },
  {
   "cell_type": "code",
   "execution_count": 453,
   "id": "87228df1",
   "metadata": {},
   "outputs": [
    {
     "name": "stdout",
     "output_type": "stream",
     "text": [
      "количество: 1\n",
      "+---------+----------+\n",
      "|variety_1|prediction|\n",
      "+---------+----------+\n",
      "|      3.0|       2.0|\n",
      "+---------+----------+\n",
      "\n"
     ]
    }
   ],
   "source": [
    "# выведим записи с несоответствием исходного значения и предсказанного на наборе test\n",
    "df_w_no = test_df.filter(test_df['variety_1'] != test_df['prediction'])\n",
    "print(f\"количество: {df_w_no.count()}\")\n",
    "df_w_no.select(['variety_1','prediction']).show()"
   ]
  },
  {
   "cell_type": "code",
   "execution_count": null,
   "id": "21089cdc",
   "metadata": {},
   "outputs": [],
   "source": [
    "# Воспользуемся MulticlassClassificationEvaluator для оценки качества на train и test \n",
    "# наборах"
   ]
  },
  {
   "cell_type": "code",
   "execution_count": 454,
   "id": "ac9b688a",
   "metadata": {},
   "outputs": [
    {
     "name": "stdout",
     "output_type": "stream",
     "text": [
      " качество для набора test: 0.9545454545454546  или 95.45454545454545 в %\n"
     ]
    }
   ],
   "source": [
    "from pyspark.ml.evaluation import MulticlassClassificationEvaluator\n",
    "evaluator = MulticlassClassificationEvaluator(predictionCol=\"prediction\", labelCol = 'variety_1')\n",
    "test_accuracy = evaluator.evaluate(test_df, {evaluator.metricName: \"accuracy\"})\n",
    "print(f\" качество для набора test: {test_accuracy}  или {test_accuracy*100} в %\")\n",
    "result_dict['acc_test'] = test_accuracy*100\n"
   ]
  },
  {
   "cell_type": "code",
   "execution_count": null,
   "id": "6b719aba",
   "metadata": {},
   "outputs": [],
   "source": []
  },
  {
   "cell_type": "code",
   "execution_count": 455,
   "id": "7f3af6af",
   "metadata": {},
   "outputs": [
    {
     "name": "stdout",
     "output_type": "stream",
     "text": [
      " качество для набора train: 1.0  или 100.0 в %\n"
     ]
    }
   ],
   "source": [
    "train_accuracy = evaluator.evaluate(train_df, {evaluator.metricName: \"accuracy\"})\n",
    "print(f\" качество для набора train: {train_accuracy}  или {train_accuracy*100} в %\")\n",
    "result_dict['acc_train'] = train_accuracy*100"
   ]
  },
  {
   "cell_type": "code",
   "execution_count": null,
   "id": "838babd7",
   "metadata": {},
   "outputs": [],
   "source": [
    "# !!!Странным образом оценки точности 'вручную' и с помощью\n",
    "# метода MulticlassClassificationEvaluator совпадают"
   ]
  },
  {
   "cell_type": "code",
   "execution_count": null,
   "id": "aab68312",
   "metadata": {},
   "outputs": [],
   "source": []
  },
  {
   "cell_type": "code",
   "execution_count": 456,
   "id": "c1d20784",
   "metadata": {},
   "outputs": [
    {
     "name": "stdout",
     "output_type": "stream",
     "text": [
      "количество элементов Setosa в исходной выборке test: 5\n",
      "количество предсказанных элементов Setosa на основе параметров выборки test: 5\n",
      "количество элементов Virginica в исходной выборке test: 9\n",
      "количество предсказанных элементов Virginica на основе параметров выборки test: 9\n",
      "количество элементов Versicolor в исходной выборке test: 8\n",
      "количество предсказанных элементов Versicolor на основе параметров выборки test: 7\n"
     ]
    }
   ],
   "source": [
    "# Проверим результаты применения созданной модели для набора test\n",
    "df_t_v_setosa = test_df.filter(test_df['variety_1'] == 1.0)\n",
    "df_t_pr_setosa = test_df.filter((test_df['prediction'] == 1.0) & (test_df['variety_1'] == 1.0))\n",
    "print(f\"количество элементов Setosa в исходной выборке test: {df_t_v_setosa.count()}\")\n",
    "print(f\"количество предсказанных элементов Setosa на основе параметров выборки test: {df_t_pr_setosa.count()}\")\n",
    "result_dict['s_test'] = df_t_v_setosa.count() -df_t_pr_setosa.count()\n",
    "df_t_v_virginica = test_df.filter(test_df['variety_1'] == 2.0)\n",
    "df_t_pr_virginica = test_df.filter((test_df['prediction'] == 2.0) & (test_df['variety_1'] == 2.0))\n",
    "print(f\"количество элементов Virginica в исходной выборке test: {df_t_v_virginica.count()}\")\n",
    "print(f\"количество предсказанных элементов Virginica на основе параметров выборки test: {df_t_pr_virginica.count()}\")\n",
    "result_dict['vir_test'] = df_t_v_virginica.count() - df_t_pr_virginica.count()\n",
    "df_t_v_versicolor = test_df.filter(test_df['variety_1'] == 3.0)\n",
    "df_t_pr_versicolor = test_df.filter((test_df['prediction'] == 3.0) & (test_df['variety_1'] == 3.0))\n",
    "print(f\"количество элементов Versicolor в исходной выборке test: {df_t_v_versicolor.count()}\")\n",
    "print(f\"количество предсказанных элементов Versicolor на основе параметров выборки test: {df_t_pr_versicolor.count()}\")\n",
    "result_dict['ver_test'] = df_t_v_versicolor.count() - df_t_pr_versicolor.count()"
   ]
  },
  {
   "cell_type": "code",
   "execution_count": 457,
   "id": "6360e8b4",
   "metadata": {},
   "outputs": [
    {
     "name": "stdout",
     "output_type": "stream",
     "text": [
      "количество элементов Setosa в исходной выборке train: 45\n",
      "количество предсказанных элементов Setosa на основе параметров выборки train: 45\n",
      "количество элементов Virginica в исходной выборке train: 41\n",
      "количество предсказанных элементов Virginica на основе параметров выборки train: 41\n",
      "количество элементов Versicolor в исходной выборке train: 42\n",
      "количество предсказанных элементов Versicolor на основе параметров выборки train: 42\n"
     ]
    }
   ],
   "source": [
    "# Проверим результаты применения созданной модели для набора train\n",
    "df_t_v_setosa = train_df.filter(train_df['variety_1'] == 1.0)\n",
    "df_t_pr_setosa = train_df.filter((train_df['prediction'] == 1.0) & (train_df['variety_1'] == 1.0))\n",
    "print(f\"количество элементов Setosa в исходной выборке train: {df_t_v_setosa.count()}\")\n",
    "print(f\"количество предсказанных элементов Setosa на основе параметров выборки train: {df_t_pr_setosa.count()}\")\n",
    "result_dict['s_train'] = df_t_v_setosa.count() -df_t_pr_setosa.count()\n",
    "df_t_v_virginica = train_df.filter(train_df['variety_1'] == 2.0)\n",
    "df_t_pr_virginica = train_df.filter((train_df['prediction'] == 2.0) & (train_df['variety_1'] == 2.0))\n",
    "print(f\"количество элементов Virginica в исходной выборке train: {df_t_v_virginica.count()}\")\n",
    "print(f\"количество предсказанных элементов Virginica на основе параметров выборки train: {df_t_pr_virginica.count()}\")\n",
    "result_dict['vir_train'] = df_t_v_virginica.count() - df_t_pr_virginica.count()\n",
    "df_t_v_versicolor = train_df.filter(train_df['variety_1'] == 3.0)\n",
    "df_t_pr_versicolor = train_df.filter((train_df['prediction'] == 3.0) & (train_df['variety_1'] == 3.0))\n",
    "print(f\"количество элементов Versicolor в исходной выборке train: {df_t_v_versicolor.count()}\")\n",
    "print(f\"количество предсказанных элементов Versicolor на основе параметров выборки train: {df_t_pr_versicolor.count()}\")\n",
    "result_dict['ver_train'] = df_t_v_versicolor.count() - df_t_pr_versicolor.count()"
   ]
  },
  {
   "cell_type": "code",
   "execution_count": 458,
   "id": "d6db8fc3",
   "metadata": {},
   "outputs": [
    {
     "data": {
      "text/html": [
       "<div>\n",
       "<style scoped>\n",
       "    .dataframe tbody tr th:only-of-type {\n",
       "        vertical-align: middle;\n",
       "    }\n",
       "\n",
       "    .dataframe tbody tr th {\n",
       "        vertical-align: top;\n",
       "    }\n",
       "\n",
       "    .dataframe thead th {\n",
       "        text-align: right;\n",
       "    }\n",
       "</style>\n",
       "<table border=\"1\" class=\"dataframe\">\n",
       "  <thead>\n",
       "    <tr style=\"text-align: right;\">\n",
       "      <th></th>\n",
       "      <th>train</th>\n",
       "      <th>test</th>\n",
       "      <th>acc_train</th>\n",
       "      <th>acc_test</th>\n",
       "      <th>s_test</th>\n",
       "      <th>s_train</th>\n",
       "      <th>vir_test</th>\n",
       "      <th>vir_train</th>\n",
       "      <th>ver_test</th>\n",
       "      <th>ver_train</th>\n",
       "    </tr>\n",
       "  </thead>\n",
       "  <tbody>\n",
       "    <tr>\n",
       "      <th>0</th>\n",
       "      <td>95.0</td>\n",
       "      <td>55.0</td>\n",
       "      <td>100.000000</td>\n",
       "      <td>94.545455</td>\n",
       "      <td>0.0</td>\n",
       "      <td>0.0</td>\n",
       "      <td>2.0</td>\n",
       "      <td>0.0</td>\n",
       "      <td>1.0</td>\n",
       "      <td>0.0</td>\n",
       "    </tr>\n",
       "    <tr>\n",
       "      <th>1</th>\n",
       "      <td>103.0</td>\n",
       "      <td>47.0</td>\n",
       "      <td>98.058252</td>\n",
       "      <td>100.000000</td>\n",
       "      <td>0.0</td>\n",
       "      <td>0.0</td>\n",
       "      <td>0.0</td>\n",
       "      <td>1.0</td>\n",
       "      <td>0.0</td>\n",
       "      <td>1.0</td>\n",
       "    </tr>\n",
       "    <tr>\n",
       "      <th>2</th>\n",
       "      <td>110.0</td>\n",
       "      <td>40.0</td>\n",
       "      <td>100.000000</td>\n",
       "      <td>97.500000</td>\n",
       "      <td>0.0</td>\n",
       "      <td>0.0</td>\n",
       "      <td>0.0</td>\n",
       "      <td>0.0</td>\n",
       "      <td>1.0</td>\n",
       "      <td>0.0</td>\n",
       "    </tr>\n",
       "    <tr>\n",
       "      <th>3</th>\n",
       "      <td>118.0</td>\n",
       "      <td>32.0</td>\n",
       "      <td>100.000000</td>\n",
       "      <td>90.625000</td>\n",
       "      <td>0.0</td>\n",
       "      <td>0.0</td>\n",
       "      <td>3.0</td>\n",
       "      <td>0.0</td>\n",
       "      <td>0.0</td>\n",
       "      <td>0.0</td>\n",
       "    </tr>\n",
       "    <tr>\n",
       "      <th>4</th>\n",
       "      <td>125.0</td>\n",
       "      <td>25.0</td>\n",
       "      <td>98.400000</td>\n",
       "      <td>100.000000</td>\n",
       "      <td>0.0</td>\n",
       "      <td>0.0</td>\n",
       "      <td>0.0</td>\n",
       "      <td>1.0</td>\n",
       "      <td>0.0</td>\n",
       "      <td>1.0</td>\n",
       "    </tr>\n",
       "    <tr>\n",
       "      <th>5</th>\n",
       "      <td>119.0</td>\n",
       "      <td>31.0</td>\n",
       "      <td>98.319328</td>\n",
       "      <td>100.000000</td>\n",
       "      <td>0.0</td>\n",
       "      <td>0.0</td>\n",
       "      <td>0.0</td>\n",
       "      <td>1.0</td>\n",
       "      <td>0.0</td>\n",
       "      <td>1.0</td>\n",
       "    </tr>\n",
       "    <tr>\n",
       "      <th>6</th>\n",
       "      <td>139.0</td>\n",
       "      <td>11.0</td>\n",
       "      <td>98.561151</td>\n",
       "      <td>100.000000</td>\n",
       "      <td>0.0</td>\n",
       "      <td>0.0</td>\n",
       "      <td>0.0</td>\n",
       "      <td>1.0</td>\n",
       "      <td>0.0</td>\n",
       "      <td>1.0</td>\n",
       "    </tr>\n",
       "    <tr>\n",
       "      <th>7</th>\n",
       "      <td>135.0</td>\n",
       "      <td>15.0</td>\n",
       "      <td>100.000000</td>\n",
       "      <td>86.666667</td>\n",
       "      <td>0.0</td>\n",
       "      <td>0.0</td>\n",
       "      <td>2.0</td>\n",
       "      <td>0.0</td>\n",
       "      <td>0.0</td>\n",
       "      <td>0.0</td>\n",
       "    </tr>\n",
       "    <tr>\n",
       "      <th>8</th>\n",
       "      <td>128.0</td>\n",
       "      <td>22.0</td>\n",
       "      <td>100.000000</td>\n",
       "      <td>95.454545</td>\n",
       "      <td>0.0</td>\n",
       "      <td>0.0</td>\n",
       "      <td>0.0</td>\n",
       "      <td>0.0</td>\n",
       "      <td>1.0</td>\n",
       "      <td>0.0</td>\n",
       "    </tr>\n",
       "  </tbody>\n",
       "</table>\n",
       "</div>"
      ],
      "text/plain": [
       "   train  test   acc_train    acc_test  s_test  s_train  vir_test  vir_train  \\\n",
       "0   95.0  55.0  100.000000   94.545455     0.0      0.0       2.0        0.0   \n",
       "1  103.0  47.0   98.058252  100.000000     0.0      0.0       0.0        1.0   \n",
       "2  110.0  40.0  100.000000   97.500000     0.0      0.0       0.0        0.0   \n",
       "3  118.0  32.0  100.000000   90.625000     0.0      0.0       3.0        0.0   \n",
       "4  125.0  25.0   98.400000  100.000000     0.0      0.0       0.0        1.0   \n",
       "5  119.0  31.0   98.319328  100.000000     0.0      0.0       0.0        1.0   \n",
       "6  139.0  11.0   98.561151  100.000000     0.0      0.0       0.0        1.0   \n",
       "7  135.0  15.0  100.000000   86.666667     0.0      0.0       2.0        0.0   \n",
       "8  128.0  22.0  100.000000   95.454545     0.0      0.0       0.0        0.0   \n",
       "\n",
       "   ver_test  ver_train  \n",
       "0       1.0        0.0  \n",
       "1       0.0        1.0  \n",
       "2       1.0        0.0  \n",
       "3       0.0        0.0  \n",
       "4       0.0        1.0  \n",
       "5       0.0        1.0  \n",
       "6       0.0        1.0  \n",
       "7       0.0        0.0  \n",
       "8       1.0        0.0  "
      ]
     },
     "execution_count": 458,
     "metadata": {},
     "output_type": "execute_result"
    }
   ],
   "source": [
    "result = result.append(result_dict, ignore_index = True)\n",
    "result"
   ]
  },
  {
   "cell_type": "code",
   "execution_count": null,
   "id": "15499731",
   "metadata": {},
   "outputs": [],
   "source": []
  },
  {
   "cell_type": "code",
   "execution_count": 459,
   "id": "dc89b7c6",
   "metadata": {},
   "outputs": [
    {
     "name": "stdout",
     "output_type": "stream",
     "text": [
      "оценка точности модели на тестовых наборах: - 96.08796296296296\n"
     ]
    }
   ],
   "source": [
    "print(f\"оценка точности модели на тестовых наборах: - {result['acc_test'].mean()}\")"
   ]
  },
  {
   "cell_type": "code",
   "execution_count": null,
   "id": "545844f0",
   "metadata": {},
   "outputs": [],
   "source": [
    "# эксперимент был построен для трех вариантов разбиения исходной выборки (70/30, 80/20, 90/10)\n",
    "# Полученный результаты подтверждают предположение о том что цветок setosa будет предсказываться\n",
    "# практически достоверно, а в предсказании типов Versicolor и Virginica будут происходить\n",
    "# ошибки ( из-за пересечения областей определения качественных параметров). \n",
    "# Средняя точность прогноза модели на проведеных экспериментах равна - 96.09%"
   ]
  }
 ],
 "metadata": {
  "kernelspec": {
   "display_name": "Python 3 (ipykernel)",
   "language": "python",
   "name": "python3"
  },
  "language_info": {
   "codemirror_mode": {
    "name": "ipython",
    "version": 3
   },
   "file_extension": ".py",
   "mimetype": "text/x-python",
   "name": "python",
   "nbconvert_exporter": "python",
   "pygments_lexer": "ipython3",
   "version": "3.9.7"
  }
 },
 "nbformat": 4,
 "nbformat_minor": 5
}
