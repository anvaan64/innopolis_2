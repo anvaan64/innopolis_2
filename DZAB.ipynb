{
 "cells": [
  {
   "cell_type": "markdown",
   "id": "6a7badab",
   "metadata": {},
   "source": [
    "Легенда:\n",
    "Компания ООО \"Ромашка\" установила на входе в Торговый центр \"презентационные столы со своей продукцией\" и выдавали на входе рекламные листки А и В ( с акцентированием внимание на различные  особенности своей продукции - \"различное описание продукции\") в течении одного дня. При этом было роздано равное количество рекламных листков и выдавались они в случайном порядке ( при выдаче на листке проставлялся порядковый номер и фиксировалось какое рекламное объявление на этом листке ).  При этом было подсчитано количество посетителей подошедших к столам ( критерием подхода к столу было предьявление листка). Т.е. если листом с таким то порядковым номером предъявлялся при подходе к столу, то в реестре напротив порядкового номера этого листка указывалось какое рекламное объявление было на нем и  записывалась \"1\". Напротив всех не сданных листков было проставлено \"0\"/\n",
    "Цель эксперимента: Проверить влияет ли как то \"различное описание продукции\" на эффективность рекламы.\n",
    "Метрикой для проверки будет рассматриваться среднее количество обращений посетителей. У нас имеется две выборки ( А,В ) из генеральной совокупности \"все посетители торгового центра\".\n",
    "Гипотеза H0 - \"различное описание продукции\" не влияет на эффективность рекламы.\n",
    "Альтернативная гипотеза H1 -\"различное описание продукции\" влияет на эффективность рекламы\n",
    "Метод проверки гипотезы: применение t-теста ( двустроннего т.к. \"изменения\" текста рекламы могут привести как к улучшению, так и к ухудшению\n",
    "Двустронний уровень значимости 0,05\n"
   ]
  },
  {
   "cell_type": "code",
   "execution_count": 40,
   "id": "e29ef76d",
   "metadata": {},
   "outputs": [
    {
     "data": {
      "text/html": [
       "<div>\n",
       "<style scoped>\n",
       "    .dataframe tbody tr th:only-of-type {\n",
       "        vertical-align: middle;\n",
       "    }\n",
       "\n",
       "    .dataframe tbody tr th {\n",
       "        vertical-align: top;\n",
       "    }\n",
       "\n",
       "    .dataframe thead th {\n",
       "        text-align: right;\n",
       "    }\n",
       "</style>\n",
       "<table border=\"1\" class=\"dataframe\">\n",
       "  <thead>\n",
       "    <tr style=\"text-align: right;\">\n",
       "      <th></th>\n",
       "      <th>ad_id</th>\n",
       "      <th>action</th>\n",
       "    </tr>\n",
       "  </thead>\n",
       "  <tbody>\n",
       "    <tr>\n",
       "      <th>0</th>\n",
       "      <td>B</td>\n",
       "      <td>1</td>\n",
       "    </tr>\n",
       "    <tr>\n",
       "      <th>1</th>\n",
       "      <td>B</td>\n",
       "      <td>1</td>\n",
       "    </tr>\n",
       "    <tr>\n",
       "      <th>2</th>\n",
       "      <td>A</td>\n",
       "      <td>0</td>\n",
       "    </tr>\n",
       "    <tr>\n",
       "      <th>3</th>\n",
       "      <td>B</td>\n",
       "      <td>0</td>\n",
       "    </tr>\n",
       "    <tr>\n",
       "      <th>4</th>\n",
       "      <td>A</td>\n",
       "      <td>1</td>\n",
       "    </tr>\n",
       "  </tbody>\n",
       "</table>\n",
       "</div>"
      ],
      "text/plain": [
       "  ad_id  action\n",
       "0     B       1\n",
       "1     B       1\n",
       "2     A       0\n",
       "3     B       0\n",
       "4     A       1"
      ]
     },
     "execution_count": 40,
     "metadata": {},
     "output_type": "execute_result"
    }
   ],
   "source": [
    "from  math import sqrt\n",
    "import numpy as np\n",
    "import pandas as pd\n",
    "import scipy.stats as sps\n",
    "\n",
    "df = pd.read_csv('ad.csv')\n",
    "df.head()"
   ]
  },
  {
   "cell_type": "code",
   "execution_count": null,
   "id": "3d5af2fd",
   "metadata": {},
   "outputs": [],
   "source": [
    "df_A = df[df['ad_id']=='A']['action'] # Выборка для варианта А\n",
    "df_B = df[df['ad_id']=='B']['action'] # Выборка для варианта В"
   ]
  },
  {
   "cell_type": "code",
   "execution_count": 31,
   "id": "5463fe13",
   "metadata": {},
   "outputs": [
    {
     "data": {
      "text/plain": [
       "count    1000.000000\n",
       "mean        0.304000\n",
       "std         0.460213\n",
       "min         0.000000\n",
       "25%         0.000000\n",
       "50%         0.000000\n",
       "75%         1.000000\n",
       "max         1.000000\n",
       "Name: action, dtype: float64"
      ]
     },
     "execution_count": 31,
     "metadata": {},
     "output_type": "execute_result"
    }
   ],
   "source": [
    "df_A.describe() #Статистики для варианта А"
   ]
  },
  {
   "cell_type": "code",
   "execution_count": 32,
   "id": "af5e50e9",
   "metadata": {},
   "outputs": [
    {
     "data": {
      "text/plain": [
       "count    1000.00000\n",
       "mean        0.37200\n",
       "std         0.48358\n",
       "min         0.00000\n",
       "25%         0.00000\n",
       "50%         0.00000\n",
       "75%         1.00000\n",
       "max         1.00000\n",
       "Name: action, dtype: float64"
      ]
     },
     "execution_count": 32,
     "metadata": {},
     "output_type": "execute_result"
    }
   ],
   "source": [
    "df_B.describe() # Статистики для варианта В"
   ]
  },
  {
   "cell_type": "code",
   "execution_count": null,
   "id": "a7c65771",
   "metadata": {},
   "outputs": [],
   "source": [
    "# Сделаем предположение: т.к. средние значения отличаюся значительно ( отличие примерно 22%), \n",
    "# а размер выборок очень большой ( 1000), то гипотеза H0 с большой вероятностью будет отклоненна "
   ]
  },
  {
   "cell_type": "code",
   "execution_count": 39,
   "id": "c3d9073a",
   "metadata": {},
   "outputs": [
    {
     "name": "stdout",
     "output_type": "stream",
     "text": [
      "t-тестовое = 3.2211732138019786\n",
      "t расчетное =1.9611520148367056\n",
      "P-Уровень значимости расчетный = 0.0012971905467125122\n",
      "P-уровень значимости принятый = 0.05\n"
     ]
    }
   ],
   "source": [
    "# Проводим необходимые расчеты для проведения оценки с помощью t-статистики\n",
    "t_val = (abs(df_B.mean()-df_A.mean()))/sqrt((df_A.var()+df_B.var())/1000) # расчет t -тестовое\n",
    "print(f\"t-тестовое = {t_val}\")\n",
    "dof =  2*df_A.count() - 2 # определение степеней свободы для t -распределения \n",
    "p_val = 0.05 # двустронний уровень значимости для принятия решения\n",
    "t_stat = sps.t.ppf(1- p_val/2, df = dof) # получаем t- расчетное\n",
    "p_stat = 2*(1 - sps.t.cdf(t_val, df = dof)) # получаем двусторонний уровень значимости расчетный\n",
    "print(f\"t расчетное ={t_stat}\")\n",
    "print(f\"P-Уровень значимости расчетный = {p_stat}\")\n",
    "print(f\"P-уровень значимости принятый = {p_val}\")\n"
   ]
  },
  {
   "cell_type": "code",
   "execution_count": null,
   "id": "7d17f503",
   "metadata": {},
   "outputs": [],
   "source": [
    "Вывод: Проверка гипотезы H0 по критерию Стьюдента показала что нет достаточных оснований\n",
    "    принимать нулевую гипотезу об отсутствии влияния изменения текста рекламного объявления\n",
    "    на эффективность рекламы. Т.е. скорее всего внесенные изменения заметно влияют на \n",
    "    эффективность рекламы ( в данном случае улучшение) ( )"
   ]
  },
  {
   "cell_type": "code",
   "execution_count": null,
   "id": "0f68c0e5",
   "metadata": {},
   "outputs": [],
   "source": []
  }
 ],
 "metadata": {
  "kernelspec": {
   "display_name": "Python 3 (ipykernel)",
   "language": "python",
   "name": "python3"
  },
  "language_info": {
   "codemirror_mode": {
    "name": "ipython",
    "version": 3
   },
   "file_extension": ".py",
   "mimetype": "text/x-python",
   "name": "python",
   "nbconvert_exporter": "python",
   "pygments_lexer": "ipython3",
   "version": "3.9.7"
  }
 },
 "nbformat": 4,
 "nbformat_minor": 5
}
