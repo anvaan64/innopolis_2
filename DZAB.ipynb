{
 "cells": [
  {
   "cell_type": "markdown",
   "id": "6a7badab",
   "metadata": {},
   "source": [
    "Легенда:\n",
    "Компания ООО \"Ромашка\" установила на входе в Торговый центр \"презентационные столы со своей продукцией\" и выдавали на входе рекламные листки А и В ( с акцентированием внимание на различные  особенности своей продукции - \"различное описание продукции\") в течении одного дня. При этом было роздано равное количество рекламных листков и выдавались они в случайном порядке ( при выдаче на листке проставлялся порядковый номер и фиксировалось какое рекламное объявление на этом листке ).  При этом было подсчитано количество посетителей подошедших к столам ( критерием подхода к столу было предьявление листка). Т.е. если листок с таким то порядковым номером предъявлялся при подходе к столу, то в реестре напротив порядкового номера этого листка указывалось какое рекламное объявление было на нем и  записывалась \"1\". Напротив всех не сданных листков было проставлено \"0\"/\n",
    "Цель эксперимента: Проверить влияет ли как то \"различное описание продукции\" на эффективность рекламы.\n",
    "Метрикой для проверки будет рассматриваться среднее количество обращений посетителей. У нас имеется две выборки ( А,В ) из генеральной совокупности \"все посетители торгового центра\".\n",
    "Для оценки среднего значения разделим каждую выборку ( А,В ) на 10 равных частей ( по 100 случаев). Т.к. считается что все спбытия в выборки случайны, то будем считать что простое разделение на 10 групп не нарушит \"случайность\" наших новых подвыборок. Для каждой выборки (А,В) будем оценивать среднее значение средних значений в подвыборках. И затем проверять гипотезу для этих средних значений  \"средних значений для подвыборок\" двух выборок А,В.\n",
    "\n",
    "Гипотеза H0 - \"различное описание продукции\" не влияет на эффективность рекламы. Т.е. Средние значения для выборок являюся средними выборок из одной генеральной совокупности.\n",
    "Альтернативная гипотеза H1 -\"различное описание продукции\" влияет на эффективность рекламы. Т.е. различия между средними являются статистически существенными .\n",
    "Метод проверки гипотезы: применение t-теста ( двустроннего т.к. \"изменения\" текста рекламы могут привести как к улучшению, так и к ухудшению. Дополнительно проведем проверку с использованием критерия Фишера ( f - теста)\n",
    "Двустронний уровень значимости 0,05\n"
   ]
  },
  {
   "cell_type": "code",
   "execution_count": 1,
   "id": "e29ef76d",
   "metadata": {},
   "outputs": [
    {
     "data": {
      "text/html": [
       "<div>\n",
       "<style scoped>\n",
       "    .dataframe tbody tr th:only-of-type {\n",
       "        vertical-align: middle;\n",
       "    }\n",
       "\n",
       "    .dataframe tbody tr th {\n",
       "        vertical-align: top;\n",
       "    }\n",
       "\n",
       "    .dataframe thead th {\n",
       "        text-align: right;\n",
       "    }\n",
       "</style>\n",
       "<table border=\"1\" class=\"dataframe\">\n",
       "  <thead>\n",
       "    <tr style=\"text-align: right;\">\n",
       "      <th></th>\n",
       "      <th>ad_id</th>\n",
       "      <th>action</th>\n",
       "    </tr>\n",
       "  </thead>\n",
       "  <tbody>\n",
       "    <tr>\n",
       "      <th>0</th>\n",
       "      <td>B</td>\n",
       "      <td>1</td>\n",
       "    </tr>\n",
       "    <tr>\n",
       "      <th>1</th>\n",
       "      <td>B</td>\n",
       "      <td>1</td>\n",
       "    </tr>\n",
       "    <tr>\n",
       "      <th>2</th>\n",
       "      <td>A</td>\n",
       "      <td>0</td>\n",
       "    </tr>\n",
       "    <tr>\n",
       "      <th>3</th>\n",
       "      <td>B</td>\n",
       "      <td>0</td>\n",
       "    </tr>\n",
       "    <tr>\n",
       "      <th>4</th>\n",
       "      <td>A</td>\n",
       "      <td>1</td>\n",
       "    </tr>\n",
       "  </tbody>\n",
       "</table>\n",
       "</div>"
      ],
      "text/plain": [
       "  ad_id  action\n",
       "0     B       1\n",
       "1     B       1\n",
       "2     A       0\n",
       "3     B       0\n",
       "4     A       1"
      ]
     },
     "execution_count": 1,
     "metadata": {},
     "output_type": "execute_result"
    }
   ],
   "source": [
    "from  math import sqrt\n",
    "import numpy as np\n",
    "import pandas as pd\n",
    "import scipy.stats as sps\n",
    "\n",
    "df = pd.read_csv('ad.csv')\n",
    "df.head()"
   ]
  },
  {
   "cell_type": "code",
   "execution_count": 127,
   "id": "3d5af2fd",
   "metadata": {},
   "outputs": [
    {
     "name": "stdout",
     "output_type": "stream",
     "text": [
      "оценка среднего для варианта А - 0.304\n",
      "оценка стандартного отклонения для варианта А - 0.027968235951204044\n",
      "оценка среднего для варианта B - 0.372\n",
      "оценка стандартного отклонения для варианта B - 0.032591750830880846\n"
     ]
    }
   ],
   "source": [
    "from statistics import mean, stdev\n",
    "df_A = [] # список с результатами для варианта А\n",
    "df_B = [] # список с результатами для варианта В\n",
    "for i in range(10):\n",
    "    df_A.append(list(df[df['ad_id']=='A']['action'][i*100:(i+1)*100])) # Выборка для варианта А\n",
    "    df_B.append(list(df[df['ad_id']=='B']['action'][i*100:(i+1)*100])) # Выборка для варианта В\n",
    "df_A_means = [] # массив средних значений для подвыборок варианта А\n",
    "df_B_means = [] # массив средних значений для подвыборок варианта В\n",
    "for i in range(10):\n",
    "    df_A_means.append(mean(df_A[i]))\n",
    "    df_B_means.append(mean(df_B[i]))\n",
    "    \n",
    "df_A_mean =mean(df_A_means) # Среднее значение средних значений подвыборок варианта А\n",
    "df_A_stdev = stdev(df_A_means) # стандартное отклонение для среднего подвыборок варианта А\n",
    "       \n",
    "df_B_mean = mean(df_B_means) # Среднее значение средних значений подвыборок варианта В\n",
    "df_B_stdev = stdev(df_B_means) # стандартное отклонение для среднего подвыборок варианта А\n",
    "print(f\"оценка среднего для варианта А - {df_A_mean}\")\n",
    "print(f\"оценка стандартного отклонения для варианта А - {df_A_stdev}\")\n",
    "print(f\"оценка среднего для варианта B - {df_B_mean}\")\n",
    "print(f\"оценка стандартного отклонения для варианта B - {df_B_stdev}\")"
   ]
  },
  {
   "cell_type": "code",
   "execution_count": 152,
   "id": "972dfe9d",
   "metadata": {},
   "outputs": [
    {
     "data": {
      "image/png": "[encoded data removed]",
      "text/plain": [
       "<Figure size 576x360 with 1 Axes>"
      ]
     },
     "metadata": {
      "needs_background": "light"
     },
     "output_type": "display_data"
    }
   ],
   "source": [
    "%matplotlib inline\n",
    "import matplotlib.pyplot as plt\n",
    "fig, ax = plt.subplots()\n",
    "x = np.linspace(0.1, 0.5, 200)\n",
    "plot_A = sps.norm.pdf(x,df_A_mean, df_A_stdev)\n",
    "plot_B = sps.norm.pdf(x, df_B_mean, df_B_stdev)\n",
    "ax.plot(x, plot_A, label ='Вариант А')\n",
    "ax.plot(x, plot_B, label = 'Вариант В', color ='r')\n",
    "ax.legend()\n",
    "\n",
    "fig.set_figheight(5)\n",
    "fig.set_figwidth(8)\n",
    "ax.grid()\n",
    "ax.vlines(df_A_mean+2*df_A_stdev,0,12.5)\n",
    "ax.vlines(df_B_mean-2*df_B_stdev, 0,14.5, color = 'r')\n",
    "plt.show()\n",
    "\n",
    "\n"
   ]
  },
  {
   "cell_type": "code",
   "execution_count": null,
   "id": "a7c65771",
   "metadata": {},
   "outputs": [],
   "source": [
    "# Сделаем предположение: т.к. средние значения отличаюся значительно ( отличие примерно 22%), \n",
    "# а размер выборок очень большой ( 1000), то гипотеза H0 с большой вероятностью будет отклоненна\n",
    "# Кроме того, из \"оценочных\" графиков распределения средних сумм подвыборок ( распределение должно быть\n",
    "# нормальным по центральной предельной теореме ) видно что оценка среднего каждой выборки\n",
    "#( матожидание распределений) не попадают в 95% доверительные интервалы соседних распределений)"
   ]
  },
  {
   "cell_type": "code",
   "execution_count": 120,
   "id": "c3d9073a",
   "metadata": {},
   "outputs": [
    {
     "name": "stdout",
     "output_type": "stream",
     "text": [
      "t-тестовое = 2.2813597482971804\n",
      "t расчетное =2.10092204024096\n",
      "P-Уровень значимости расчетный = 0.03491920816971583\n",
      "P-уровень значимости принятый = 0.05\n"
     ]
    }
   ],
   "source": [
    "# Проводим необходимые расчеты для проведения оценки с помощью t-статистики\n",
    "t_val = (abs(df_B_mean-df_A_mean))/sqrt((df_A_stdev**2+df_B_stdev**2/len(df_A))) # расчет t -тестовое\n",
    "print(f\"t-тестовое = {t_val}\")\n",
    "dof =  2*len(df_A) - 2 # определение степеней свободы для t -распределения \n",
    "p_val = 0.05 # двустронний уровень значимости для принятия решения\n",
    "t_stat = sps.t.ppf(1- p_val/2, df = dof) # получаем t- расчетное\n",
    "p_stat = 2*(1 - sps.t.cdf(t_val, df = dof)) # получаем двусторонний уровень значимости расчетный\n",
    "print(f\"t расчетное ={t_stat}\")\n",
    "print(f\"P-Уровень значимости расчетный = {p_stat}\")\n",
    "print(f\"P-уровень значимости принятый = {p_val}\")\n"
   ]
  },
  {
   "cell_type": "code",
   "execution_count": null,
   "id": "7d17f503",
   "metadata": {},
   "outputs": [],
   "source": [
    "Вывод: Проверка гипотезы H0 по критерию Стьюдента показала что нет достаточных оснований\n",
    "    принимать нулевую гипотезу об отсутствии влияния изменения текста рекламного объявления\n",
    "    на эффективность рекламы. Т.е. скорее всего внесенные изменения заметно влияют на \n",
    "    эффективность рекламы"
   ]
  },
  {
   "cell_type": "code",
   "execution_count": 126,
   "id": "0f68c0e5",
   "metadata": {},
   "outputs": [
    {
     "name": "stdout",
     "output_type": "stream",
     "text": [
      "f - тестовое = 45.125783132530124\n",
      "f - расчетное =0.05143973924473376\n",
      "P-Уровень значимости расчетный = 2.681962619766054e-06\n",
      "P-уровень значимости принятый = 0.05\n"
     ]
    }
   ],
   "source": [
    "#Применим дисперсионный анализ ( критери фишера) ( проверяем гипотезу о том что нет различий\n",
    "#между выборками)\n",
    "n_gr = 2 # количество групп\n",
    "n_vibor = 2*(len(df_A)-1) # размер выборки\n",
    "s2_vnu = (df_A_stdev**2 + df_B_stdev**2)/2 # дисперсия внутригрупповая\n",
    "x_aver = (df_A_mean + df_B_mean)/2 # среднее двух выборочных средних\n",
    "s2_aver = ((df_A_mean- x_aver)**2 + (df_B_mean - x_aver)**2)/(n_gr-1) # дисперсия выборочного среднего\n",
    "s2_megr = n_vibor * s2_aver # дисперсия межгруповая\n",
    "f_vibor = s2_megr/s2_vnu # рассчитывает критерий Фишера для эксперимента\n",
    "f_rash = sps.f.ppf(p_val, dfn = n_gr, dfd = n_vibor)\n",
    "p_val_rash = 1 - sps.f.cdf(f_vibor, dfn = n_gr-1, dfd = n_vibor)\n",
    "print(f\"f - тестовое = {f_vibor}\")\n",
    "print(f\"f - расчетное ={f_rash}\")\n",
    "print(f\"P-Уровень значимости расчетный = {p_val_rash}\")\n",
    "print(f\"P-уровень значимости принятый = {p_val}\")"
   ]
  },
  {
   "cell_type": "code",
   "execution_count": null,
   "id": "48948fcf",
   "metadata": {},
   "outputs": [],
   "source": [
    "Вывод: Проверка гипотезы H0 по критерию Фишера показала что нет достаточных оснований\n",
    "    принимать нулевую гипотезу об отсутствии влияния изменения текста рекламного объявления\n",
    "    на эффективность рекламы. Т.е. скорее всего внесенные изменения заметно влияют на \n",
    "    эффективность рекламы "
   ]
  }
 ],
 "metadata": {
  "kernelspec": {
   "display_name": "Python 3 (ipykernel)",
   "language": "python",
   "name": "python3"
  },
  "language_info": {
   "codemirror_mode": {
    "name": "ipython",
    "version": 3
   },
   "file_extension": ".py",
   "mimetype": "text/x-python",
   "name": "python",
   "nbconvert_exporter": "python",
   "pygments_lexer": "ipython3",
   "version": "3.9.7"
  }
 },
 "nbformat": 4,
 "nbformat_minor": 5
}
