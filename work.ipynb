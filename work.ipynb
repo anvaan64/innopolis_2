{
 "cells": [
  {
   "cell_type": "code",
   "execution_count": 36,
   "id": "5cb8ca71",
   "metadata": {},
   "outputs": [
    {
     "name": "stdout",
     "output_type": "stream",
     "text": [
      "['x-files', 'xapple', 'xyz', '', 'apple', 'extra', 'mix']\n"
     ]
    }
   ],
   "source": [
    "from math import sqrt\n",
    "def front_x(words):\n",
    "    x_in = []\n",
    "    x_no = []\n",
    "    for c in words:\n",
    "        if c == '' or c[0] != 'x':\n",
    "            x_no.append(c)\n",
    "        else:\n",
    "            x_in.append(c)\n",
    "    x_in.sort()\n",
    "    x_no.sort()\n",
    "    return(x_in + x_no)\n",
    "   \n",
    "    \n",
    "l = ['mix', 'extra', '', 'x-files', 'xyz', 'xapple', 'apple']\n",
    "print(front_x(l))"
   ]
  },
  {
   "cell_type": "code",
   "execution_count": 89,
   "id": "8869ea98",
   "metadata": {},
   "outputs": [
    {
     "name": "stdout",
     "output_type": "stream",
     "text": [
      "7803\n",
      "8352\n",
      "6174\n"
     ]
    }
   ],
   "source": [
    "def numerics(n):\n",
    "    n_list = []\n",
    "    while n:\n",
    "        n_list.append(n % 10)\n",
    "        n //= 10\n",
    "    return(n_list[::-1])\n",
    "\n",
    "def kaprekar_step(L):\n",
    "    L.sort()\n",
    "    n_max = L[::-1]\n",
    "    num_max = int(''.join(map(str, n_max)))\n",
    "    num_min = int(''.join(map(str, L)))\n",
    "    return(num_max-num_min)\n",
    "\n",
    "def kaprekar_loop(n):\n",
    "    while n != 6174:\n",
    "        n = kaprekar_step(numerics(n))\n",
    "        print(n)\n",
    "    \n",
    "n = int(input())\n",
    "kaprekar_loop(n)"
   ]
  },
  {
   "cell_type": "code",
   "execution_count": null,
   "id": "86303662",
   "metadata": {},
   "outputs": [],
   "source": []
  },
  {
   "cell_type": "code",
   "execution_count": null,
   "id": "eea4ccbd",
   "metadata": {},
   "outputs": [],
   "source": []
  }
 ],
 "metadata": {
  "kernelspec": {
   "display_name": "Python 3 (ipykernel)",
   "language": "python",
   "name": "python3"
  },
  "language_info": {
   "codemirror_mode": {
    "name": "ipython",
    "version": 3
   },
   "file_extension": ".py",
   "mimetype": "text/x-python",
   "name": "python",
   "nbconvert_exporter": "python",
   "pygments_lexer": "ipython3",
   "version": "3.9.7"
  }
 },
 "nbformat": 4,
 "nbformat_minor": 5
}
